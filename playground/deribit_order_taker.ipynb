{
 "cells": [
  {
   "cell_type": "code",
   "execution_count": null,
   "metadata": {},
   "outputs": [],
   "source": [
    "from nagasaki.clients.deribit_client import DeribitClient\n",
    "from nagasaki.clients.base_client import OrderTaker\n",
    "from nagasaki.enums.common import SideTypeEnum, InstrumentTypeEnum, Symbol\n",
    "from decimal import Decimal\n",
    "\n",
    "DERIBIT_CLIENT_ID=\"\"\n",
    "DERIBIT_CLIENT_SECRET=\"\"\n",
    "\n",
    "bc = DeribitClient(DERIBIT_CLIENT_ID, DERIBIT_CLIENT_SECRET)\n",
    "\n",
    "om = OrderTaker(\n",
    "    side=SideTypeEnum.ASK,\n",
    "    amount=Decimal(\"100\"),\n",
    "    instrument=InstrumentTypeEnum.ETH_PERPETUAL,\n",
    "    symbol=Symbol.ETH_USD_ETH,\n",
    "    hidden=False\n",
    ")\n",
    "\n",
    "bc.create_order(om)"
   ]
  },
  {
   "cell_type": "code",
   "execution_count": null,
   "metadata": {},
   "outputs": [],
   "source": []
  }
 ],
 "metadata": {
  "interpreter": {
   "hash": "145bf2a29ea55cee62a7640c792018eacf9684494a096120bc3ea922912c5071"
  },
  "kernelspec": {
   "display_name": "Python 3.8.10 ('nagasaki-_H2kPFOl-py3.8')",
   "language": "python",
   "name": "python3"
  },
  "language_info": {
   "codemirror_mode": {
    "name": "ipython",
    "version": 3
   },
   "file_extension": ".py",
   "mimetype": "text/x-python",
   "name": "python",
   "nbconvert_exporter": "python",
   "pygments_lexer": "ipython3",
   "version": "3.8.10"
  },
  "orig_nbformat": 4
 },
 "nbformat": 4,
 "nbformat_minor": 2
}
