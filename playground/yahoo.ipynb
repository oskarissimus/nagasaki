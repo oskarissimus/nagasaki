{
 "cells": [
  {
   "cell_type": "code",
   "execution_count": 9,
   "metadata": {},
   "outputs": [],
   "source": [
    "from decimal import Decimal\n",
    "import requests\n",
    "from nagasaki.clients.usd_pln_quoting_base_client import UsdPlnQuotingBaseClient\n",
    "from nagasaki.clients.yahoo_finance.dto import Model\n",
    "\n",
    "class YahooFinanceClientException(Exception):\n",
    "    pass\n",
    "\n",
    "# pylint: disable=too-few-public-methods\n",
    "class YahooFinanceClient(UsdPlnQuotingBaseClient):\n",
    "    def __init__(self, api_key: str):\n",
    "        self.api_key = api_key\n",
    "        self.base_url = \"https://yfapi.net\"\n",
    "\n",
    "    def _fetch_finance_quote(self) -> Model:\n",
    "        params = {\"region\": \"GB\", \"lang\": \"en\", \"symbols\": \"USDPLN=X\"}\n",
    "        headers = {\"x-api-key\": self.api_key}\n",
    "        response = requests.request(\n",
    "            \"GET\",\n",
    "            f\"{self.base_url}/v6/finance/quote\",\n",
    "            headers=headers,\n",
    "            params=params,\n",
    "        )\n",
    "        print(response.json())\n",
    "        print(response.status_code)\n",
    "    \n",
    "        if response.status_code == 200:\n",
    "            return Model(**response.json())\n",
    "        raise YahooFinanceClientException(f\"Error fetching quote: {response.status_code}\")\n",
    "\n",
    "    def fetch_usd_pln_quote(self) -> Decimal:\n",
    "        finance_quote = self._fetch_finance_quote()\n",
    "        return finance_quote.quoteResponse.result[0].regularMarketPrice\n",
    "\n",
    "usd_pln_quoting_client = YahooFinanceClient(\"XXX\")\n"
   ]
  },
  {
   "cell_type": "code",
   "execution_count": 10,
   "metadata": {},
   "outputs": [
    {
     "name": "stdout",
     "output_type": "stream",
     "text": [
      "{'quoteResponse': {'result': [{'language': 'en-US', 'region': 'US', 'quoteType': 'CURRENCY', 'typeDisp': 'Currency', 'quoteSourceName': 'Delayed Quote', 'triggerable': True, 'customPriceAlertConfidence': 'HIGH', 'currency': 'PLN', 'shortName': 'USD/PLN', 'regularMarketOpen': 4.34925, 'fiftyTwoWeekLow': 3.6382, 'fiftyTwoWeekHigh': 4.617581, 'fiftyDayAverage': 4.0977364, 'twoHundredDayAverage': 4.0173826, 'regularMarketChange': 0.021569729, 'regularMarketChangePercent': 0.4958752, 'regularMarketPrice': 4.3714, 'regularMarketDayHigh': 4.38233, 'regularMarketDayLow': 4.3219, 'regularMarketPreviousClose': 4.34983, 'bid': 4.37305, 'ask': 4.37995, 'marketState': 'REGULAR', 'exchange': 'CCY', 'messageBoardId': 'finmb_PLN_X', 'exchangeTimezoneName': 'Europe/London', 'exchangeTimezoneShortName': 'GMT', 'gmtOffSetMilliseconds': 0, 'market': 'ccy_market', 'esgPopulated': False, 'sourceInterval': 15, 'exchangeDataDelayedBy': 0, 'tradeable': False, 'askSize': 0, 'fullExchangeName': 'CCY', 'averageDailyVolume3Month': 0, 'averageDailyVolume10Day': 0, 'fiftyTwoWeekLowChange': 0.73319983, 'fiftyTwoWeekLowChangePercent': 0.20152818, 'fiftyTwoWeekRange': '3.6382 - 4.617581', 'fiftyTwoWeekHighChange': -0.24618101, 'fiftyTwoWeekHighChangePercent': -0.053313848, 'fiftyDayAverageChange': 0.27366352, 'fiftyDayAverageChangePercent': 0.06678407, 'twoHundredDayAverageChange': 0.35401726, 'twoHundredDayAverageChangePercent': 0.08812137, 'firstTradeDateMilliseconds': 1070236800000, 'priceHint': 4, 'regularMarketTime': 1647018151, 'regularMarketDayRange': '4.3219 - 4.38233', 'regularMarketVolume': 0, 'bidSize': 0, 'symbol': 'USDPLN=X'}], 'error': None}}\n",
      "200\n"
     ]
    },
    {
     "data": {
      "text/plain": [
       "Decimal('4.3714')"
      ]
     },
     "execution_count": 10,
     "metadata": {},
     "output_type": "execute_result"
    }
   ],
   "source": [
    "usd_pln_quoting_client.fetch_usd_pln_quote()"
   ]
  },
  {
   "cell_type": "code",
   "execution_count": null,
   "metadata": {},
   "outputs": [],
   "source": []
  }
 ],
 "metadata": {
  "interpreter": {
   "hash": "145bf2a29ea55cee62a7640c792018eacf9684494a096120bc3ea922912c5071"
  },
  "kernelspec": {
   "display_name": "Python 3.8.10 ('nagasaki-_H2kPFOl-py3.8')",
   "language": "python",
   "name": "python3"
  },
  "language_info": {
   "codemirror_mode": {
    "name": "ipython",
    "version": 3
   },
   "file_extension": ".py",
   "mimetype": "text/x-python",
   "name": "python",
   "nbconvert_exporter": "python",
   "pygments_lexer": "ipython3",
   "version": "3.8.10"
  },
  "orig_nbformat": 4
 },
 "nbformat": 4,
 "nbformat_minor": 2
}
