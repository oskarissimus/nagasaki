{
 "cells": [
  {
   "cell_type": "code",
   "execution_count": 1,
   "id": "f268d907",
   "metadata": {},
   "outputs": [],
   "source": [
    "from nagasaki.clients.bitclude.core import BitcludeClient\n",
    "from nagasaki.clients.deribit_client import DeribitClient\n",
    "from nagasaki.clients.yahoo_finance.core import YahooFinanceClient"
   ]
  },
  {
   "cell_type": "code",
   "execution_count": 2,
   "id": "d08d08d3",
   "metadata": {},
   "outputs": [],
   "source": [
    "b = BitcludeClient(bitclude_url_base=\"https://api.bitclude.com\", bitclude_client_id=, bitclude_client_key=\"\")\n",
    "d = DeribitClient(deribit_url_base=\"https://www.deribit.com/api/v2\",deribit_client_id=\"\", deribit_client_secret=\"\")\n",
    "y = YahooFinanceClient(api_key=\"\")"
   ]
  },
  {
   "cell_type": "code",
   "execution_count": 76,
   "id": "80a2744b",
   "metadata": {},
   "outputs": [],
   "source": [
    "def get_inventory_parameter():\n",
    "    balances = b.fetch_account_info().balances\n",
    "    total_pln = float(balances[\"PLN\"].active + balances[\"PLN\"].inactive)\n",
    "    total_btc = float(balances[\"BTC\"].active + balances[\"BTC\"].inactive)\n",
    "\n",
    "    btc_mark_price_pln = USD_PLN\n",
    "\n",
    "    total_btc_value_in_pln = float(total_btc) * btc_mark_price_pln\n",
    "    wallet_sum_in_pln = total_pln + total_btc_value_in_pln\n",
    "    pln_to_sum_ratio = (\n",
    "        total_btc_value_in_pln / wallet_sum_in_pln\n",
    "    )  # values from 0 to 1\n",
    "    return pln_to_sum_ratio * 2 - 1\n",
    "\n",
    "def get_delta_adjusted_for_inventory_ask(inventory_parameter):\n",
    "    A = -0.0035\n",
    "    B = 0.0055\n",
    "    res = A * inventory_parameter + B\n",
    "    if res <= 0:\n",
    "        raise StrategyException(\n",
    "            f\"Delta is too small for inventory parameter: {res}\"\n",
    "        )\n",
    "    return res\n",
    "\n",
    "def get_delta_adjusted_for_inventory_bid(inventory_parameter):\n",
    "    A = 0.0035\n",
    "    B = 0.0055\n",
    "    res = A * inventory_parameter + B\n",
    "    if res <= 0:\n",
    "        raise StrategyException(\n",
    "            f\"Delta is too small for inventory parameter: {res}\"\n",
    "        )\n",
    "    return res"
   ]
  },
  {
   "cell_type": "code",
   "execution_count": 18,
   "id": "c5cf89b3",
   "metadata": {},
   "outputs": [],
   "source": [
    "USD_PLN = float(y.fetch_usd_pln_quote())\n",
    "BTC_USD = float(d.fetch_index_price_btc_usd())\n",
    "INVENTORY = float(get_inventory_parameter())\n",
    "\n",
    "BTC_PLN = BTC_USD * USD_PLN"
   ]
  },
  {
   "cell_type": "code",
   "execution_count": 19,
   "id": "b9e26c68",
   "metadata": {},
   "outputs": [
    {
     "data": {
      "text/plain": [
       "0.0055"
      ]
     },
     "execution_count": 19,
     "metadata": {},
     "output_type": "execute_result"
    }
   ],
   "source": [
    "get_delta_adjusted_for_inventory(0)"
   ]
  },
  {
   "cell_type": "code",
   "execution_count": 6,
   "id": "6b88c1b9",
   "metadata": {},
   "outputs": [],
   "source": [
    "from matplotlib import pyplot as plt\n",
    "%matplotlib inline"
   ]
  },
  {
   "cell_type": "code",
   "execution_count": 7,
   "id": "51fe3ab7",
   "metadata": {},
   "outputs": [],
   "source": [
    "# Main loop\n",
    "\n",
    "# Take Deribit USD \n",
    "# Take USD_PLN \n",
    "\n",
    "# Important: Calculate inventory parameter [-1,1] \n",
    "\n",
    "# Quote price on bitclude ( 0.3% - 0.7% ) depending on inventory \n",
    "# Sleep 60 \n",
    "# Repeat \n",
    "\n"
   ]
  },
  {
   "cell_type": "code",
   "execution_count": 8,
   "id": "f3da39f6",
   "metadata": {},
   "outputs": [],
   "source": [
    "import numpy as np"
   ]
  },
  {
   "cell_type": "code",
   "execution_count": 48,
   "id": "ac990645",
   "metadata": {},
   "outputs": [],
   "source": [
    "x_data  = np.linspace(-1,1, num=50)"
   ]
  },
  {
   "cell_type": "code",
   "execution_count": 77,
   "id": "daf69bf4",
   "metadata": {},
   "outputs": [],
   "source": [
    "ask_data = [get_delta_adjusted_for_inventory_ask(x) for x in x_data]\n",
    "\n",
    "bid_data = [get_delta_adjusted_for_inventory_bid(x) for x in x_data]\n"
   ]
  },
  {
   "cell_type": "code",
   "execution_count": 78,
   "id": "0ea54f80",
   "metadata": {},
   "outputs": [
    {
     "data": {
      "image/png": "[encoded data removed]",
      "text/plain": [
       "<Figure size 432x288 with 1 Axes>"
      ]
     },
     "metadata": {
      "needs_background": "light"
     },
     "output_type": "display_data"
    }
   ],
   "source": [
    "plt.plot(x_data, ask_data)\n",
    "plt.plot(x_data,bid_data)\n",
    "\n",
    "plt.xlabel(\"Inventory parameter\")\n",
    "plt.ylabel(\"Spread for quotes\")\n",
    "\n",
    "plt.axvline(x=0, )\n",
    "plt.show()\n",
    "\n",
    "# X axis - inventory parameter \n",
    "# Y axsis - spread for quoting "
   ]
  },
  {
   "cell_type": "code",
   "execution_count": 83,
   "id": "2103733b",
   "metadata": {},
   "outputs": [
    {
     "data": {
      "text/plain": [
       "0.0019999999999999996"
      ]
     },
     "execution_count": 83,
     "metadata": {},
     "output_type": "execute_result"
    }
   ],
   "source": [
    "# Goal is to calculate ASK and BID price to quote on bitclude \n",
    "\n",
    "#get_delta_adjusted_for_inventory_ask(INVENTORY)\n",
    "\n",
    "\n",
    "#get_delta_adjusted_for_inventory_ask(0)\n",
    "\n",
    "get_delta_adjusted_for_inventory_bid(INVENTORY)"
   ]
  },
  {
   "cell_type": "code",
   "execution_count": 84,
   "id": "6ca0692b",
   "metadata": {},
   "outputs": [],
   "source": [
    "BID = BTC_PLN * (1 - get_delta_adjusted_for_inventory_bid(INVENTORY))"
   ]
  },
  {
   "cell_type": "code",
   "execution_count": 85,
   "id": "ae7813c5",
   "metadata": {},
   "outputs": [
    {
     "data": {
      "text/plain": [
       "169734.3777801324"
      ]
     },
     "execution_count": 85,
     "metadata": {},
     "output_type": "execute_result"
    }
   ],
   "source": [
    "BID"
   ]
  },
  {
   "cell_type": "code",
   "execution_count": 86,
   "id": "4f36fd6e",
   "metadata": {},
   "outputs": [],
   "source": [
    "ASK = BTC_PLN * (1 + get_delta_adjusted_for_inventory(INVENTORY))"
   ]
  },
  {
   "cell_type": "code",
   "execution_count": 88,
   "id": "fefb9582",
   "metadata": {},
   "outputs": [
    {
     "data": {
      "text/plain": [
       "171605.1975753042"
      ]
     },
     "execution_count": 88,
     "metadata": {},
     "output_type": "execute_result"
    }
   ],
   "source": [
    "ASK"
   ]
  },
  {
   "cell_type": "code",
   "execution_count": null,
   "id": "3ce2632d",
   "metadata": {},
   "outputs": [],
   "source": [
    "# WHILE TRUE \n",
    "\n"
   ]
  },
  {
   "cell_type": "code",
   "execution_count": null,
   "id": "16a77b80",
   "metadata": {},
   "outputs": [],
   "source": []
  }
 ],
 "metadata": {
  "kernelspec": {
   "display_name": "Python 3 (ipykernel)",
   "language": "python",
   "name": "python3"
  },
  "language_info": {
   "codemirror_mode": {
    "name": "ipython",
    "version": 3
   },
   "file_extension": ".py",
   "mimetype": "text/x-python",
   "name": "python",
   "nbconvert_exporter": "python",
   "pygments_lexer": "ipython3",
   "version": "3.10.4"
  }
 },
 "nbformat": 4,
 "nbformat_minor": 5
}
