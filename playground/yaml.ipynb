{
 "cells": [
  {
   "cell_type": "code",
   "execution_count": 1,
   "metadata": {},
   "outputs": [
    {
     "data": {
      "text/plain": [
       "RuntimeConfig(papiez='gwalcil')"
      ]
     },
     "execution_count": 1,
     "metadata": {},
     "output_type": "execute_result"
    }
   ],
   "source": [
    "from pydantic_yaml import YamlModel\n",
    "\n",
    "\n",
    "class RuntimeConfig(YamlModel):\n",
    "    papiez: str\n",
    "\n",
    "rc = RuntimeConfig.parse_raw(open('/home/oskar/git/nagasaki/playground/runtime_config.yml').read())\n",
    "rc"
   ]
  },
  {
   "cell_type": "code",
   "execution_count": null,
   "metadata": {},
   "outputs": [],
   "source": []
  }
 ],
 "metadata": {
  "interpreter": {
   "hash": "145bf2a29ea55cee62a7640c792018eacf9684494a096120bc3ea922912c5071"
  },
  "kernelspec": {
   "display_name": "Python 3.8.10 ('nagasaki-_H2kPFOl-py3.8')",
   "language": "python",
   "name": "python3"
  },
  "language_info": {
   "codemirror_mode": {
    "name": "ipython",
    "version": 3
   },
   "file_extension": ".py",
   "mimetype": "text/x-python",
   "name": "python",
   "nbconvert_exporter": "python",
   "pygments_lexer": "ipython3",
   "version": "3.8.10"
  },
  "orig_nbformat": 4
 },
 "nbformat": 4,
 "nbformat_minor": 2
}
