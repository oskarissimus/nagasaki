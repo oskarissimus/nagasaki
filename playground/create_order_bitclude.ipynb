{
 "cells": [
  {
   "cell_type": "code",
   "execution_count": 21,
   "metadata": {},
   "outputs": [],
   "source": [
    "import requests\n",
    "import json\n",
    "\n",
    "class BitcludeClient:\n",
    "    def __init__(\n",
    "        self, bitclude_client_id: str, bitclude_client_key: str\n",
    "    ):\n",
    "        self.bitclude_client_id = bitclude_client_id\n",
    "        self.bitclude_client_key = bitclude_client_key\n",
    "\n",
    "    def create_order(self, amount, rate, order_type, hidden=True):\n",
    "\n",
    "        response = requests.get(\n",
    "            \"https://api.bitclude.com/\",\n",
    "            params={\n",
    "                \"method\": \"transactions\",\n",
    "                \"action\": order_type,\n",
    "                \"market1\": \"xrp\",\n",
    "                \"market2\": \"pln\",\n",
    "                \"amount\": amount,\n",
    "                \"rate\": rate,\n",
    "                \"post_only\": \"1\",\n",
    "                \"hidden\": \"1\" if hidden else \"0\",\n",
    "                \"id\": self.bitclude_client_id,\n",
    "                \"key\": self.bitclude_client_key,\n",
    "            },\n",
    "        )\n",
    "        try:\n",
    "            response_json = response.json()\n",
    "        except json.decoder.JSONDecodeError:\n",
    "            print(response.text)\n",
    "        if response_json[\"success\"] == True:\n",
    "            return response_json\n",
    "        else:\n",
    "            print(response_json)\n",
    "            return False\n",
    "\n",
    "\n",
    "BITCLUDE_ID=\"xxx\"\n",
    "BITCLUDE_KEY=\"xxx\"\n",
    "\n",
    "client = BitcludeClient(\n",
    "    bitclude_client_id=BITCLUDE_ID,\n",
    "    bitclude_client_key=BITCLUDE_KEY,\n",
    ")\n"
   ]
  },
  {
   "cell_type": "code",
   "execution_count": 27,
   "metadata": {},
   "outputs": [
    {
     "name": "stdout",
     "output_type": "stream",
     "text": [
      "{'success': False, 'timestamp': '0.44158900 1659461340', 'code': 5052, 'message': 'You cannot place order right now because there are matching orders on the market'}\n"
     ]
    },
    {
     "data": {
      "text/plain": [
       "False"
      ]
     },
     "execution_count": 27,
     "metadata": {},
     "output_type": "execute_result"
    }
   ],
   "source": [
    "client.create_order(amount=\"1\", rate=\"1.76\", order_type=\"buy\")"
   ]
  },
  {
   "cell_type": "code",
   "execution_count": 10,
   "metadata": {},
   "outputs": [
    {
     "data": {
      "text/plain": [
       "<Response [200]>"
      ]
     },
     "execution_count": 10,
     "metadata": {},
     "output_type": "execute_result"
    }
   ],
   "source": [
    "requests.get(\"https://api.egera.com/\")"
   ]
  },
  {
   "cell_type": "code",
   "execution_count": null,
   "metadata": {},
   "outputs": [],
   "source": []
  }
 ],
 "metadata": {
  "kernelspec": {
   "display_name": "Python 3.8.10 ('nagasaki-_H2kPFOl-py3.8')",
   "language": "python",
   "name": "python3"
  },
  "language_info": {
   "codemirror_mode": {
    "name": "ipython",
    "version": 3
   },
   "file_extension": ".py",
   "mimetype": "text/x-python",
   "name": "python",
   "nbconvert_exporter": "python",
   "pygments_lexer": "ipython3",
   "version": "3.8.10"
  },
  "orig_nbformat": 4,
  "vscode": {
   "interpreter": {
    "hash": "145bf2a29ea55cee62a7640c792018eacf9684494a096120bc3ea922912c5071"
   }
  }
 },
 "nbformat": 4,
 "nbformat_minor": 2
}
