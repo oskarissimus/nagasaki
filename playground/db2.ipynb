{
 "cells": [
  {
   "cell_type": "code",
   "execution_count": 1,
   "metadata": {},
   "outputs": [
    {
     "name": "stderr",
     "output_type": "stream",
     "text": [
      "/home/oskar/.cache/pypoetry/virtualenvs/nagasaki-_H2kPFOl-py3.8/lib/python3.8/site-packages/ccxt_unmerged/__init__.py:70: UserWarning: Exchanges 'bitopro', 'bitrue', 'bkex', 'cryptocom', 'wazirx' have been added to ccxt. If you were using the old version (in ccxt_unmerged), there might be some differences.\n",
      "  warnings.warn(\"Exchanges %s have been added to ccxt. If you were using the old version (in ccxt_unmerged), there might be some differences.\" % merged_exchanges)\n"
     ]
    },
    {
     "name": "stdout",
     "output_type": "stream",
     "text": [
      "16:00:33.511 \u001b[32mnagasaki.clients.base_client\u001b[0m:44 \u001b[1mfetching account info\u001b[0m\n"
     ]
    }
   ],
   "source": [
    "from nagasaki.clients.bitclude.core import BitcludeClient\n",
    "from nagasaki.database.database import Database\n",
    "from sqlalchemy import create_engine\n",
    "from sqlalchemy.orm import sessionmaker\n",
    "\n",
    "BITCLUDE_ID=\"xxx\"\n",
    "BITCLUDE_KEY=\"xxx\"\n",
    "bc = BitcludeClient(BITCLUDE_ID, BITCLUDE_KEY)\n",
    "\n",
    "\n",
    "\n",
    "\n",
    "engine = create_engine(url=\"sqlite:///database.db\")\n",
    "session_maker = sessionmaker(autocommit=False, autoflush=False, bind=engine)\n",
    "\n",
    "db = Database(session_maker=session_maker, engine=engine)\n",
    "\n",
    "account_info = bc.fetch_account_info()"
   ]
  },
  {
   "cell_type": "code",
   "execution_count": 2,
   "metadata": {},
   "outputs": [],
   "source": [
    "db.write_account_info_to_db(account_info=account_info)"
   ]
  },
  {
   "cell_type": "code",
   "execution_count": null,
   "metadata": {},
   "outputs": [],
   "source": []
  }
 ],
 "metadata": {
  "kernelspec": {
   "display_name": "Python 3.8.10 ('nagasaki-_H2kPFOl-py3.8')",
   "language": "python",
   "name": "python3"
  },
  "language_info": {
   "codemirror_mode": {
    "name": "ipython",
    "version": 3
   },
   "file_extension": ".py",
   "mimetype": "text/x-python",
   "name": "python",
   "nbconvert_exporter": "python",
   "pygments_lexer": "ipython3",
   "version": "3.8.10"
  },
  "orig_nbformat": 4,
  "vscode": {
   "interpreter": {
    "hash": "145bf2a29ea55cee62a7640c792018eacf9684494a096120bc3ea922912c5071"
   }
  }
 },
 "nbformat": 4,
 "nbformat_minor": 2
}
