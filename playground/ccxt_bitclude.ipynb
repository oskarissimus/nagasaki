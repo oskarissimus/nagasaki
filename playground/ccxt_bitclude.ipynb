{
 "cells": [
  {
   "cell_type": "code",
   "execution_count": null,
   "metadata": {},
   "outputs": [],
   "source": [
    "import ccxt\n",
    "import ccxt_unmerged  # pylint: disable=unused-import\n",
    "\n",
    "BITCLUDE_ID=\"xxx\"\n",
    "BITCLUDE_KEY=\"xxx\"\n",
    "\n",
    "\n",
    "exchange = getattr(ccxt, \"bitclude\")\n",
    "client = exchange({\"apiKey\": BITCLUDE_KEY, \"uid\": BITCLUDE_ID})\n",
    "trades = client.fetch_trades(\"ETH/PLN\")\n"
   ]
  },
  {
   "cell_type": "code",
   "execution_count": null,
   "metadata": {},
   "outputs": [],
   "source": [
    "trades[0]\n",
    "import datetime as dt\n",
    "from decimal import Decimal\n",
    "from typing import Any, Dict\n",
    "from pydantic import BaseModel\n",
    "\n",
    "class TradeInfo(BaseModel):\n",
    "    time: dt.datetime\n",
    "    nr: str\n",
    "    amount: Decimal\n",
    "    price: Decimal\n",
    "    type: str\n",
    "\n",
    "class Trade(BaseModel):\n",
    "    id: str\n",
    "    timestamp: int\n",
    "    datetime: dt.datetime\n",
    "    symbol: str\n",
    "    side: str\n",
    "    price: Decimal\n",
    "    amount: Decimal\n",
    "    cost: Decimal\n",
    "    info: TradeInfo\n",
    "\n",
    "\n",
    "t = Trade(**trades[0])\n",
    "t"
   ]
  },
  {
   "cell_type": "code",
   "execution_count": null,
   "metadata": {},
   "outputs": [],
   "source": []
  },
  {
   "cell_type": "code",
   "execution_count": null,
   "metadata": {},
   "outputs": [],
   "source": [
    "trades[0]\n"
   ]
  },
  {
   "cell_type": "code",
   "execution_count": null,
   "metadata": {},
   "outputs": [],
   "source": []
  }
 ],
 "metadata": {
  "kernelspec": {
   "display_name": "Python 3.8.10 ('nagasaki-_H2kPFOl-py3.8')",
   "language": "python",
   "name": "python3"
  },
  "language_info": {
   "codemirror_mode": {
    "name": "ipython",
    "version": 3
   },
   "file_extension": ".py",
   "mimetype": "text/x-python",
   "name": "python",
   "nbconvert_exporter": "python",
   "pygments_lexer": "ipython3",
   "version": "3.8.10"
  },
  "orig_nbformat": 4,
  "vscode": {
   "interpreter": {
    "hash": "145bf2a29ea55cee62a7640c792018eacf9684494a096120bc3ea922912c5071"
   }
  }
 },
 "nbformat": 4,
 "nbformat_minor": 2
}
