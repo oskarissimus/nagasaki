{
 "cells": [
  {
   "cell_type": "code",
   "execution_count": null,
   "metadata": {},
   "outputs": [],
   "source": [
    "import ccxt\n",
    "import ccxt_unmerged  # pylint: disable=unused-import\n",
    "\n",
    "BITCLUDE_ID=\"xxx\"\n",
    "BITCLUDE_KEY=\"xxx\"\n",
    "\n",
    "exchange = getattr(ccxt, \"bitclude\")\n",
    "client = exchange({\"apiKey\": BITCLUDE_KEY, \"uid\": BITCLUDE_ID})\n",
    "client.fetch_my_trades(\"XRP/PLN\")\n"
   ]
  },
  {
   "cell_type": "code",
   "execution_count": null,
   "metadata": {},
   "outputs": [],
   "source": []
  },
  {
   "cell_type": "code",
   "execution_count": null,
   "metadata": {},
   "outputs": [],
   "source": []
  }
 ],
 "metadata": {
  "kernelspec": {
   "display_name": "Python 3.8.10 ('nagasaki-_H2kPFOl-py3.8')",
   "language": "python",
   "name": "python3"
  },
  "language_info": {
   "codemirror_mode": {
    "name": "ipython",
    "version": 3
   },
   "file_extension": ".py",
   "mimetype": "text/x-python",
   "name": "python",
   "nbconvert_exporter": "python",
   "pygments_lexer": "ipython3",
   "version": "3.8.10"
  },
  "orig_nbformat": 4,
  "vscode": {
   "interpreter": {
    "hash": "145bf2a29ea55cee62a7640c792018eacf9684494a096120bc3ea922912c5071"
   }
  }
 },
 "nbformat": 4,
 "nbformat_minor": 2
}
