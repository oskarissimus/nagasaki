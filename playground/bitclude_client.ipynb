{
 "cells": [
  {
   "cell_type": "code",
   "execution_count": null,
   "metadata": {},
   "outputs": [],
   "source": [
    "import requests\n",
    "from pydantic import BaseModel\n",
    "import json\n",
    "import datetime\n",
    "\n",
    "\n",
    "class BitcludeClientException(Exception):\n",
    "    pass\n",
    "\n",
    "\n",
    "class CannotParseResponse(BitcludeClientException):\n",
    "    pass\n",
    "\n",
    "\n",
    "# https://github.com/samuelcolvin/pydantic/issues/1303\n",
    "class HashableBaseModel(BaseModel):\n",
    "    def __hash__(self):\n",
    "        return hash((type(self),) + tuple(self.__dict__.values()))\n",
    "\n",
    "class AccountHistoryItem(HashableBaseModel):\n",
    "    currency1: str\n",
    "    currency2: str\n",
    "    amount: float\n",
    "    time_close: datetime.datetime\n",
    "    price: float\n",
    "    fee_taker: int\n",
    "    fee_maker: int\n",
    "    type: str\n",
    "    action: str\n",
    "\n",
    "\n",
    "\n",
    "\n",
    "class BitcludeClient:\n",
    "    def __init__(\n",
    "        self, bitclude_url_base: str, bitclude_client_id: str, bitclude_client_key: str\n",
    "    ):\n",
    "        self.bitclude_url_base = bitclude_url_base\n",
    "        self.bitclude_client_id = bitclude_client_id\n",
    "        self.bitclude_client_key = bitclude_client_key\n",
    "\n",
    "    def fetch_account_history(self):\n",
    "        response = requests.get(\n",
    "            self.bitclude_url_base,\n",
    "            params={\n",
    "                \"method\": \"account\",\n",
    "                \"action\": \"history\",\n",
    "                \"id\": self.bitclude_client_id,\n",
    "                \"key\": self.bitclude_client_key,\n",
    "            },\n",
    "        )\n",
    "        try:\n",
    "            response_json = response.json()\n",
    "        except json.decoder.JSONDecodeError:\n",
    "            print(response.text)\n",
    "            raise CannotParseResponse()\n",
    "        if response_json[\"success\"] == True:\n",
    "            return [AccountHistoryItem(**item) for item in response_json[\"history\"]]\n",
    "        else:\n",
    "            raise BitcludeClientException(response_json)\n",
    "\n",
    "BITCLUDE_ID=\"xxx\"\n",
    "BITCLUDE_KEY=\"xxx\"\n",
    "\n",
    "client = BitcludeClient(\n",
    "    bitclude_url_base=\"https://api.bitclude.com/\",\n",
    "    bitclude_client_id=BITCLUDE_ID,\n",
    "    bitclude_client_key=BITCLUDE_KEY,\n",
    ")\n"
   ]
  },
  {
   "cell_type": "code",
   "execution_count": null,
   "metadata": {},
   "outputs": [],
   "source": [
    "account_history = client.fetch_account_history()"
   ]
  },
  {
   "cell_type": "code",
   "execution_count": null,
   "metadata": {},
   "outputs": [],
   "source": [
    "import pandas as pd\n",
    "\n",
    "account_history_dict = [item.dict() for item in account_history]\n",
    "\n",
    "df = pd.DataFrame(account_history_dict, columns=[\"currency1\", \"currency2\", \"amount\", \"time_close\", \"price\", \"fee_taker\", \"fee_maker\", \"type\", \"action\"])\n",
    "# calculate amount * price * fee_taker / 1000 and append as a column\n",
    "df[\"fee_paid\"] = df[\"amount\"] * df[\"price\"] * df[\"fee_taker\"] / 10000\n",
    "df[df[\"action\"] == \"close\"].head(50)\n",
    "# count daily sum of fee_paid\n",
    "\n",
    "# convert time_close to datetime\n",
    "df[\"time_close\"] = pd.to_datetime(df[\"time_close\"])\n",
    "\n",
    "# show last 7 days in timezone Europe/Warsaw\n",
    "\n",
    "df[df[\"time_close\"] > datetime.datetime.now(tz=datetime.timezone.utc) - datetime.timedelta(days=7)].groupby([\"time_close\"]).sum()[\"fee_paid\"].plot()"
   ]
  },
  {
   "cell_type": "code",
   "execution_count": null,
   "metadata": {},
   "outputs": [],
   "source": [
    "30 / 10000"
   ]
  },
  {
   "cell_type": "code",
   "execution_count": null,
   "metadata": {},
   "outputs": [],
   "source": []
  }
 ],
 "metadata": {
  "interpreter": {
   "hash": "145bf2a29ea55cee62a7640c792018eacf9684494a096120bc3ea922912c5071"
  },
  "kernelspec": {
   "display_name": "Python 3.8.10 ('nagasaki-_H2kPFOl-py3.8')",
   "language": "python",
   "name": "python3"
  },
  "language_info": {
   "codemirror_mode": {
    "name": "ipython",
    "version": 3
   },
   "file_extension": ".py",
   "mimetype": "text/x-python",
   "name": "python",
   "nbconvert_exporter": "python",
   "pygments_lexer": "ipython3",
   "version": "3.8.10"
  },
  "orig_nbformat": 4
 },
 "nbformat": 4,
 "nbformat_minor": 2
}
