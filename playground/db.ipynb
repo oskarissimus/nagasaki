{
 "cells": [
  {
   "cell_type": "code",
   "execution_count": 2,
   "metadata": {},
   "outputs": [],
   "source": [
    "from nagasaki.database.database import Base, engine, SessionLocal, dump_actions_to_db\n",
    "from nagasaki.models.bitclude import Action as BitcludeAction, BitcludeOrder\n",
    "from nagasaki.database.models import Action\n",
    "from decimal import Decimal\n",
    "from nagasaki.enums.common import ActionTypeEnum, SideTypeEnum\n",
    "\n",
    "type(SessionLocal)\n",
    "Base.metadata.create_all(bind=engine)\n",
    "\n",
    "\n",
    "order = BitcludeOrder(\n",
    "        order_id=1,\n",
    "    side=SideTypeEnum.BID,\n",
    "    price=Decimal(\"21.37\"),\n",
    "    amount=Decimal(\"14.88\"),\n",
    ")\n",
    "\n",
    "\n",
    "action = BitcludeAction(\n",
    "    action_type=ActionTypeEnum.CREATE,\n",
    "    order=order,\n",
    ")\n",
    "\n",
    "a = Action.from_action(action)\n",
    "\n",
    "dump_actions_to_db([a])"
   ]
  }
 ],
 "metadata": {
  "interpreter": {
   "hash": "145bf2a29ea55cee62a7640c792018eacf9684494a096120bc3ea922912c5071"
  },
  "kernelspec": {
   "display_name": "Python 3.8.10 ('nagasaki-_H2kPFOl-py3.8')",
   "language": "python",
   "name": "python3"
  },
  "language_info": {
   "codemirror_mode": {
    "name": "ipython",
    "version": 3
   },
   "file_extension": ".py",
   "mimetype": "text/x-python",
   "name": "python",
   "nbconvert_exporter": "python",
   "pygments_lexer": "ipython3",
   "version": "3.8.10"
  },
  "orig_nbformat": 4
 },
 "nbformat": 4,
 "nbformat_minor": 2
}
