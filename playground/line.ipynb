{
 "cells": [
  {
   "cell_type": "code",
   "execution_count": 1,
   "metadata": {},
   "outputs": [
    {
     "data": {
      "text/plain": [
       "Line(a=Decimal('-0.0035'), b=Decimal('0.0055'))"
      ]
     },
     "execution_count": 1,
     "metadata": {},
     "output_type": "execute_result"
    }
   ],
   "source": [
    "from decimal import Decimal\n",
    "from dataclasses import dataclass\n",
    "\n",
    "@dataclass\n",
    "class Point:\n",
    "    x: Decimal\n",
    "    y: Decimal\n",
    "\n",
    "@dataclass\n",
    "class Line:\n",
    "    a: Decimal\n",
    "    b: Decimal\n",
    "\n",
    "    @classmethod\n",
    "    def from_points(cls, p1: Point, p2: Point):\n",
    "        a = (p2.y - p1.y) / (p2.x - p1.x)\n",
    "        b = p1.y - a * p1.x\n",
    "        return cls(a, b)\n",
    "    \n",
    "    def calculate_y(self, x):\n",
    "        return self.a * x + self.b\n",
    "\n",
    "p1 = Point(Decimal(\"1\"), Decimal(\"0.002\"))\n",
    "p2 = Point(Decimal(\"-1\"), Decimal(\"0.009\"))\n",
    "l = Line.from_points(p1, p2)\n",
    "l\n"
   ]
  },
  {
   "cell_type": "code",
   "execution_count": null,
   "metadata": {},
   "outputs": [],
   "source": []
  }
 ],
 "metadata": {
  "interpreter": {
   "hash": "145bf2a29ea55cee62a7640c792018eacf9684494a096120bc3ea922912c5071"
  },
  "kernelspec": {
   "display_name": "Python 3.8.10 ('nagasaki-_H2kPFOl-py3.8')",
   "language": "python",
   "name": "python3"
  },
  "language_info": {
   "codemirror_mode": {
    "name": "ipython",
    "version": 3
   },
   "file_extension": ".py",
   "mimetype": "text/x-python",
   "name": "python",
   "nbconvert_exporter": "python",
   "pygments_lexer": "ipython3",
   "version": "3.8.10"
  },
  "orig_nbformat": 4
 },
 "nbformat": 4,
 "nbformat_minor": 2
}
