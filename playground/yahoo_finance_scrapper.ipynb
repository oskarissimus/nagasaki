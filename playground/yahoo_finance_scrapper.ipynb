{
 "cells": [
  {
   "cell_type": "code",
   "execution_count": 36,
   "metadata": {},
   "outputs": [
    {
     "name": "stdout",
     "output_type": "stream",
     "text": [
      "The dotenv extension is already loaded. To reload it, use:\n",
      "  %reload_ext dotenv\n",
      "\n"
     ]
    },
    {
     "name": "stderr",
     "output_type": "stream",
     "text": [
      "[WDM] - ====== WebDriver manager ======\n",
      "[WDM] - Current firefox version is 100.0\n",
      "[WDM] - Get LATEST geckodriver version for 100.0 firefox\n",
      "[WDM] - GH_TOKEN will be used to perform requests\n",
      "[WDM] - Driver [/home/oskar/.wdm/drivers/geckodriver/linux64/v0.31.0/geckodriver] found in cache\n"
     ]
    },
    {
     "name": "stdout",
     "output_type": "stream",
     "text": [
      "Yahoo Finance API alternatives\n",
      "<b>API key</b>: 2oLPfSeHFiSPhNkTky9E1pFsaV9efuq9dXCjNtJg\n"
     ]
    }
   ],
   "source": [
    "from selenium import webdriver\n",
    "from selenium.webdriver.firefox.service import Service as FirefoxService\n",
    "from webdriver_manager.firefox import GeckoDriverManager\n",
    "from selenium.webdriver.firefox.options import Options\n",
    "from selenium.webdriver.support.ui import WebDriverWait\n",
    "from selenium.webdriver.support import expected_conditions as EC\n",
    "from selenium.webdriver.common.by import By\n",
    "import os\n",
    "\n",
    "%load_ext dotenv\n",
    "%dotenv ../.env\n",
    "email = os.getenv(\"YAHOO_FINANCE_API_EMAIL\")\n",
    "password = os.getenv(\"YAHOO_FINANCE_API_PASSWORD\")\n",
    "\n",
    "class element_inner_html_len_is_greater_than(object):\n",
    "  \"\"\"An expectation for checking that length of inner html of element is greater than the given length.\n",
    "\n",
    "  locator - used to find the element\n",
    "  returns the WebElement once its inner html length is greater than the particular length\n",
    "  \"\"\"\n",
    "  def __init__(self, locator, len):\n",
    "    self.locator = locator\n",
    "    self.len = len\n",
    "\n",
    "  def __call__(self, driver):\n",
    "    element = driver.find_element(*self.locator)   # Finding the referenced element\n",
    "    if len(element.get_attribute(\"innerHTML\")) > self.len:\n",
    "        return element\n",
    "    else:\n",
    "        return False\n",
    "\n",
    "\n",
    "options = Options()\n",
    "options.headless = True\n",
    "email_input_xpath =    \"/html/body/div/div/main/div[1]/div/div/div/div[2]/div/div/form/div/fieldset/div[1]/div/div/input\"\n",
    "password_input_xpath = \"/html/body/div/div/main/div[1]/div/div/div/div[2]/div/div/form/div/fieldset/div[2]/div/div[1]/input\"\n",
    "login_button_xpath =   \"/html/body/div/div/main/div[1]/div/div/div/div[2]/div/div/form/div/button\"\n",
    "api_key_element_xpath = \"/html/body/div/div/main/div[1]/div[1]/div[1]\"\n",
    "yahoo_finance_api_url = \"https://www.yahoofinanceapi.com/dashboard\"\n",
    "\n",
    "service = FirefoxService(executable_path=GeckoDriverManager().install())\n",
    "driver = webdriver.Firefox(service=service, options=options)\n",
    "driver.get(yahoo_finance_api_url)\n",
    "email_input = driver.find_element(by=\"xpath\", value=email_input_xpath)\n",
    "email_input.send_keys(email)\n",
    "password_element = driver.find_element(by=\"xpath\", value=password_input_xpath)\n",
    "password_element.send_keys(password)\n",
    "login_button = driver.find_element(by=\"xpath\", value=login_button_xpath)\n",
    "login_button.click()\n",
    "WebDriverWait(driver, 10).until(EC.text_to_be_present_in_element((By.XPATH, api_key_element_xpath), \"API key\"))\n",
    "inner_html_len_before_key_is_loaded = len(\"<b>API key</b>: \")\n",
    "locator = (By.XPATH, api_key_element_xpath)\n",
    "element = WebDriverWait(driver, 10).until(element_inner_html_len_is_greater_than(locator, inner_html_len_before_key_is_loaded))\n",
    "\n",
    "print(element.get_attribute(\"innerHTML\"))"
   ]
  },
  {
   "cell_type": "code",
   "execution_count": null,
   "metadata": {},
   "outputs": [],
   "source": []
  }
 ],
 "metadata": {
  "interpreter": {
   "hash": "145bf2a29ea55cee62a7640c792018eacf9684494a096120bc3ea922912c5071"
  },
  "kernelspec": {
   "display_name": "Python 3.8.10 ('nagasaki-_H2kPFOl-py3.8')",
   "language": "python",
   "name": "python3"
  },
  "language_info": {
   "codemirror_mode": {
    "name": "ipython",
    "version": 3
   },
   "file_extension": ".py",
   "mimetype": "text/x-python",
   "name": "python",
   "nbconvert_exporter": "python",
   "pygments_lexer": "ipython3",
   "version": "3.8.10"
  },
  "orig_nbformat": 4
 },
 "nbformat": 4,
 "nbformat_minor": 2
}
