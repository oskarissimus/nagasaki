{
 "cells": [
  {
   "cell_type": "code",
   "execution_count": 1,
   "metadata": {},
   "outputs": [
    {
     "name": "stdout",
     "output_type": "stream",
     "text": [
      "19:55:39.074 \u001b[32mnagasaki.clients.bitclude.client\u001b[0m:102 \u001b[1mSELL BTC/PLN, amount: 0.0001000000, rate: 200000, post_only: True, hidden: True\u001b[0m\n",
      "success: True, code: 5053, message: 'Order has been submited', actions: (SELL order_id: 11309117)\n"
     ]
    }
   ],
   "source": [
    "from nagasaki.models.bitclude import Action,ActionTypeEnum, BitcludeOrder, SideTypeEnum\n",
    "from nagasaki.clients.bitclude.dto import CreateRequestDTO, CancelRequestDTO\n",
    "from nagasaki.clients.bitclude.client import BitcludeClient\n",
    "\n",
    "a = Action(\n",
    "    action_type=ActionTypeEnum.CREATE,\n",
    "    order=BitcludeOrder(side=SideTypeEnum.ASK, price=200_000, amount=\"0.0001\")\n",
    ")\n",
    "\n",
    "t = CreateRequestDTO.from_bitclude_order(a.order)\n",
    "\n",
    "bc = BitcludeClient(\n",
    "    bitclude_url_base=\"https://api.bitclude.com\",\n",
    "    bitclude_client_id=\"xxx\",\n",
    "    bitclude_client_key=\"xxx\",\n",
    ")\n",
    "\n",
    "r = bc.create_order(t)\n",
    "print(r)"
   ]
  },
  {
   "cell_type": "code",
   "execution_count": 3,
   "metadata": {},
   "outputs": [
    {
     "name": "stdout",
     "output_type": "stream",
     "text": [
      "19:55:56.627 \u001b[32mnagasaki.clients.bitclude.client\u001b[0m:115 \u001b[1morder_id: 11309083, type: ASK\u001b[0m\n",
      "success: True, code: 5058, message: order has been canceled\n"
     ]
    }
   ],
   "source": [
    "order_to_cancel = BitcludeOrder(\n",
    "    order_id=11309083,\n",
    "    side=SideTypeEnum.ASK,\n",
    "    price=200_000,\n",
    "    amount=\"0.0001\"\n",
    ")\n",
    "\n",
    "dto_to_cancel = CancelRequestDTO.from_bitclude_order(order_to_cancel)\n",
    "r = bc.cancel_order(dto_to_cancel)\n",
    "print(r)\n"
   ]
  },
  {
   "cell_type": "code",
   "execution_count": null,
   "metadata": {},
   "outputs": [],
   "source": []
  }
 ],
 "metadata": {
  "interpreter": {
   "hash": "145bf2a29ea55cee62a7640c792018eacf9684494a096120bc3ea922912c5071"
  },
  "kernelspec": {
   "display_name": "Python 3.8.10 ('nagasaki-_H2kPFOl-py3.8')",
   "language": "python",
   "name": "python3"
  },
  "language_info": {
   "codemirror_mode": {
    "name": "ipython",
    "version": 3
   },
   "file_extension": ".py",
   "mimetype": "text/x-python",
   "name": "python",
   "nbconvert_exporter": "python",
   "pygments_lexer": "ipython3",
   "version": "3.8.10"
  },
  "orig_nbformat": 4
 },
 "nbformat": 4,
 "nbformat_minor": 2
}
