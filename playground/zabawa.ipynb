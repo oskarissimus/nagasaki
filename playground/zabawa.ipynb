{
 "cells": [
  {
   "cell_type": "code",
   "execution_count": 5,
   "metadata": {},
   "outputs": [
    {
     "name": "stdout",
     "output_type": "stream",
     "text": [
      "1 2 \n",
      "[Decimal('1'), Decimal('2')]\n"
     ]
    }
   ],
   "source": [
    "from decimal import Decimal\n",
    "class Orderbook(list):\n",
    "    def __str__(self) -> str:\n",
    "        ret = \"\"\n",
    "        for offer in self:\n",
    "            ret += f\"{offer} \"\n",
    "        return ret\n",
    "        \n",
    "    def __repr__(self) -> str:\n",
    "        ret = \"\"\n",
    "        for offer in self:\n",
    "            ret += f\"{offer} \"\n",
    "        return ret\n",
    "\n",
    "o = Orderbook()\n",
    "o.append(Decimal(1))\n",
    "o.append(Decimal(2))\n",
    "print(o)\n",
    "\n",
    "o = list()\n",
    "o.append(Decimal(1))\n",
    "o.append(Decimal(2))\n",
    "print(o)"
   ]
  },
  {
   "cell_type": "code",
   "execution_count": 8,
   "metadata": {},
   "outputs": [
    {
     "data": {
      "text/plain": [
       "'true'"
      ]
     },
     "execution_count": 8,
     "metadata": {},
     "output_type": "execute_result"
    }
   ],
   "source": [
    "str(True).lower()"
   ]
  },
  {
   "cell_type": "code",
   "execution_count": 7,
   "metadata": {},
   "outputs": [
    {
     "name": "stdout",
     "output_type": "stream",
     "text": [
      "ORDER <ASK 1337 1488>\n"
     ]
    }
   ],
   "source": [
    "from nagasaki.models.bitclude import BitcludeOrder\n",
    "from nagasaki.clients.bitclude.dto import Offer\n",
    "from decimal import Decimal\n",
    "from nagasaki.enums.common import SideTypeEnum\n",
    "\n",
    "o = Offer(\n",
    "    nr=1,\n",
    "    offertype=SideTypeEnum.ASK,\n",
    "    price=Decimal(\"1337\"),\n",
    "    amount=Decimal(\"1488\"),\n",
    "    currency1=\"btc\",\n",
    "    currency2=\"pln\",\n",
    "    id_user_open=\"1\",\n",
    "    time_open=\"2020-01-01T00:00:00Z\",\n",
    ")\n",
    "\n",
    "bo = o.to_bitclude_order()\n",
    "print(bo)\n"
   ]
  },
  {
   "cell_type": "code",
   "execution_count": 8,
   "metadata": {},
   "outputs": [
    {
     "data": {
      "text/plain": [
       "1"
      ]
     },
     "execution_count": 8,
     "metadata": {},
     "output_type": "execute_result"
    }
   ],
   "source": [
    "int(True)"
   ]
  },
  {
   "cell_type": "code",
   "execution_count": null,
   "metadata": {},
   "outputs": [],
   "source": []
  }
 ],
 "metadata": {
  "interpreter": {
   "hash": "145bf2a29ea55cee62a7640c792018eacf9684494a096120bc3ea922912c5071"
  },
  "kernelspec": {
   "display_name": "Python 3.8.10 ('nagasaki-_H2kPFOl-py3.8')",
   "language": "python",
   "name": "python3"
  },
  "language_info": {
   "codemirror_mode": {
    "name": "ipython",
    "version": 3
   },
   "file_extension": ".py",
   "mimetype": "text/x-python",
   "name": "python",
   "nbconvert_exporter": "python",
   "pygments_lexer": "ipython3",
   "version": "3.8.10"
  },
  "orig_nbformat": 4
 },
 "nbformat": 4,
 "nbformat_minor": 2
}
