{
 "cells": [
  {
   "cell_type": "code",
   "execution_count": null,
   "metadata": {},
   "outputs": [],
   "source": [
    "import json\n",
    "import logging\n",
    "import time\n",
    "from datetime import datetime\n",
    "\n",
    "import websocket\n",
    "from sqlalchemy import Column, DateTime, Integer, String, create_engine\n",
    "from sqlalchemy.orm import declarative_base, sessionmaker\n",
    "from sqlalchemy.pool import StaticPool\n",
    "\n",
    "subscribe_message = json.dumps({'op': 'subscribe', 'args': ['orderbooks:all']})\n",
    "\n",
    "def on_open(ws: websocket.WebSocketApp):\n",
    "    print(\"### opened ###\")\n",
    "    ws.send(subscribe_message)\n",
    "\n",
    "def on_message(ws, message):\n",
    "    message_json = json.loads(message)\n",
    "    print(message_json)\n",
    "\n",
    "def on_error(ws, error):\n",
    "    print(error)\n",
    "\n",
    "def on_close(ws, close_status_code, close_msg):\n",
    "    print(\"### closed ###\")\n",
    "\n",
    "\n",
    "\n",
    "ws = websocket.WebSocketApp(\n",
    "    \"wss://n1.ws.bitclude.com\",\n",
    "    on_open=on_open,\n",
    "    on_message=on_message,\n",
    "    on_error=on_error,\n",
    "    on_close=on_close,\n",
    ")\n",
    "\n",
    "ws.run_forever()"
   ]
  },
  {
   "cell_type": "code",
   "execution_count": null,
   "metadata": {},
   "outputs": [],
   "source": [
    "json.loads(subscribe_message)"
   ]
  },
  {
   "cell_type": "code",
   "execution_count": null,
   "metadata": {},
   "outputs": [],
   "source": []
  }
 ],
 "metadata": {
  "kernelspec": {
   "display_name": "Python 3.8.10 ('nagasaki-_H2kPFOl-py3.8')",
   "language": "python",
   "name": "python3"
  },
  "language_info": {
   "codemirror_mode": {
    "name": "ipython",
    "version": 3
   },
   "file_extension": ".py",
   "mimetype": "text/x-python",
   "name": "python",
   "nbconvert_exporter": "python",
   "pygments_lexer": "ipython3",
   "version": "3.8.10"
  },
  "orig_nbformat": 4,
  "vscode": {
   "interpreter": {
    "hash": "145bf2a29ea55cee62a7640c792018eacf9684494a096120bc3ea922912c5071"
   }
  }
 },
 "nbformat": 4,
 "nbformat_minor": 2
}
